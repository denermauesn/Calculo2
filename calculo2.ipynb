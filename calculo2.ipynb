{
  "nbformat": 4,
  "nbformat_minor": 0,
  "metadata": {
    "colab": {
      "name": "calculo2.ipynb",
      "provenance": [],
      "collapsed_sections": []
    },
    "kernelspec": {
      "name": "python3",
      "display_name": "Python 3"
    }
  },
  "cells": [
    {
      "cell_type": "code",
      "metadata": {
        "id": "-FTxCkjaPh6h",
        "colab_type": "code",
        "colab": {}
      },
      "source": [
        "import numpy as np\n",
        "from scipy import integrate\n",
        "import matplotlib.pyplot as plt\n",
        "import sympy as sy\n",
        "from matplotlib.patches import Rectangle"
      ],
      "execution_count": 0,
      "outputs": []
    },
    {
      "cell_type": "markdown",
      "metadata": {
        "id": "9zSTYscckSlB",
        "colab_type": "text"
      },
      "source": [
        "Exemplo: $$\\int_0^2 x^3 + 3x^2 \\,dx$$\n",
        "\n",
        "Projeto 02 : $$\\int_0^2 e^ {x -1} \\,dx$$\n"
      ]
    },
    {
      "cell_type": "code",
      "metadata": {
        "id": "piWIjbo1lLz9",
        "colab_type": "code",
        "outputId": "9d112282-923b-4425-ff49-e2eebd2e2b85",
        "colab": {
          "base_uri": "https://localhost:8080/",
          "height": 500
        }
      },
      "source": [
        "#func = lambda x : x ** 3 + 3 * x **2 \n",
        "#func = lambda x : 1 / x  \n",
        "e = 2.7182818284\n",
        "func  = lambda x : e ** ( x - 1 )\n",
        "i = 1\n",
        "j = 2\n",
        "\n",
        "\n",
        "x = np.linspace(0.5,2.5 , 1000)\n",
        "plt.figure(figsize=(14,8))\n",
        "plt.plot(x, func(x))\n",
        "plt.axhline(color = 'black')\n",
        "plt.fill_between(x, func(x), where = [(x > i) and x < j for x in x], color = 'red', alpha = '0.3')\n"
      ],
      "execution_count": 0,
      "outputs": [
        {
          "output_type": "execute_result",
          "data": {
            "text/plain": [
              "<matplotlib.collections.PolyCollection at 0x7f32d0367b38>"
            ]
          },
          "metadata": {
            "tags": []
          },
          "execution_count": 18
        },
        {
          "output_type": "display_data",
          "data": {
            "image/png": "[encoded data removed]",
            "text/plain": [
              "<Figure size 1008x576 with 1 Axes>"
            ]
          },
          "metadata": {
            "tags": []
          }
        }
      ]
    },
    {
      "cell_type": "code",
      "metadata": {
        "id": "ghaYO20vmN2t",
        "colab_type": "code",
        "outputId": "fc79b2b7-cd9a-4858-aaa1-83ec8efc8f7b",
        "colab": {
          "base_uri": "https://localhost:8080/",
          "height": 34
        }
      },
      "source": [
        "x = sy.Symbol('x')\n",
        "sy.integrate(func(x), (x, i, j))\n"
      ],
      "execution_count": 0,
      "outputs": [
        {
          "output_type": "execute_result",
          "data": {
            "text/plain": [
              "1.71828182843732"
            ]
          },
          "metadata": {
            "tags": []
          },
          "execution_count": 19
        }
      ]
    },
    {
      "cell_type": "code",
      "metadata": {
        "id": "XGAS2zzxDw5Y",
        "colab_type": "code",
        "colab": {}
      },
      "source": [
        "import numpy as np\n",
        "import sympy as sy\n",
        "import pandas as pd\n",
        "\n",
        "def ESQ(func, ini, end, precision):\n",
        "    r = [x for x in np.linspace( ini, end, precision + 1) ]    \n",
        "    apx = 0\n",
        "    for i in range(len(r) - 1):\n",
        "        apx += func(r[i]) * (r[i + 1] - r[i])        \n",
        "\n",
        "    return apx\n",
        "\n",
        "def DIR(func, ini, end, precision):\n",
        "    r = [x for x in np.linspace( ini, end, precision + 1) ]        \n",
        "    apx = 0\n",
        "    for i in range(len(r) - 1):\n",
        "        apx += func(r[i + 1]) * (r[i + 1] - r[i])\n",
        "                \n",
        "\n",
        "    return apx\n",
        "\n",
        "def TRAP(func, ini, end, precision):\n",
        "    r = [x for x in np.linspace( ini, end, precision + 1) ]    \n",
        "    apx = 0\n",
        "    for i in range(len(r) - 1):\n",
        "        apx += ((func(r[i]) + func(r[i + 1])) / 2) * (r[i + 1] - r[i])        \n",
        "\n",
        "    return apx\n",
        "\n",
        "def MED(func, ini, end, precision):    \n",
        "    r = [x for x in np.linspace( ini, end, precision + 1) ]    \n",
        "    apx = 0\n",
        "    for i in range(len(r) - 1):\n",
        "        p_med = (r[i + 1] + r[i]) / 2\n",
        "        apx += func(p_med) * (r[i + 1] - r[i])        \n",
        "\n",
        "    return apx\n",
        "\n",
        "\n",
        "def SIMP(med, trap):\n",
        "    apx =  ((2 * med) + trap) / 3\n",
        "\n",
        "    return apx\n"
      ],
      "execution_count": 0,
      "outputs": []
    },
    {
      "cell_type": "code",
      "metadata": {
        "id": "ayZujiKVsfL0",
        "colab_type": "code",
        "outputId": "4dbe4577-2d82-4458-ec5b-38d68124a148",
        "colab": {
          "base_uri": "https://localhost:8080/",
          "height": 173
        }
      },
      "source": [
        "tabela = pd.DataFrame(columns=['N', 'ESQ', 'DIR', 'TRAP', 'MED', 'SIMP'])\n",
        "erro_esq, erro_dir, erro_trap, erro_med, erro_simp = [], [], [], [], []\n",
        "\n",
        "Ns = [2, 10, 50, 250]\n",
        "for n in Ns:    \n",
        "    v_apx_esq = ESQ(func , i, j, n)\n",
        "    erro_esq.append(float(v_ext - v_apx_esq))\n",
        "\n",
        "\n",
        "    v_apx_dir = DIR(func , i, j, n)\n",
        "    erro_dir.append(float(v_ext - v_apx_dir))\n",
        "\n",
        "    v_apx_trap = TRAP(func , i, j, n)\n",
        "    erro_trap.append(float(v_ext - v_apx_trap))\n",
        "\n",
        "    v_apx_med = MED(func , i, j, n)\n",
        "    erro_med.append(float(v_ext - v_apx_med))\n",
        "\n",
        "    v_simp = SIMP(float(v_ext - v_apx_med), float(v_ext - v_apx_trap))\n",
        "    erro_simp.append(v_simp)\n",
        "    \n",
        "tabela['N']     = Ns\n",
        "tabela['ESQ']   = erro_esq\n",
        "tabela['DIR']   = erro_dir\n",
        "tabela['TRAP']  = erro_trap\n",
        "tabela['MED']   = erro_med\n",
        "tabela['SIMP']   = erro_simp\n",
        "tabela.head()\n",
        "\n"
      ],
      "execution_count": 0,
      "outputs": [
        {
          "output_type": "execute_result",
          "data": {
            "text/html": [
              "<div>\n",
              "<style scoped>\n",
              "    .dataframe tbody tr th:only-of-type {\n",
              "        vertical-align: middle;\n",
              "    }\n",
              "\n",
              "    .dataframe tbody tr th {\n",
              "        vertical-align: top;\n",
              "    }\n",
              "\n",
              "    .dataframe thead th {\n",
              "        text-align: right;\n",
              "    }\n",
              "</style>\n",
              "<table border=\"1\" class=\"dataframe\">\n",
              "  <thead>\n",
              "    <tr style=\"text-align: right;\">\n",
              "      <th></th>\n",
              "      <th>N</th>\n",
              "      <th>ESQ</th>\n",
              "      <th>DIR</th>\n",
              "      <th>TRAP</th>\n",
              "      <th>MED</th>\n",
              "      <th>SIMP</th>\n",
              "    </tr>\n",
              "  </thead>\n",
              "  <tbody>\n",
              "    <tr>\n",
              "      <th>0</th>\n",
              "      <td>2</td>\n",
              "      <td>-0.631213</td>\n",
              "      <td>-1.490354</td>\n",
              "      <td>-1.060784</td>\n",
              "      <td>-1.007366</td>\n",
              "      <td>-1.025172</td>\n",
              "    </tr>\n",
              "    <tr>\n",
              "      <th>1</th>\n",
              "      <td>10</td>\n",
              "      <td>-0.940652</td>\n",
              "      <td>-1.112480</td>\n",
              "      <td>-1.026566</td>\n",
              "      <td>-1.024419</td>\n",
              "      <td>-1.025135</td>\n",
              "    </tr>\n",
              "    <tr>\n",
              "      <th>2</th>\n",
              "      <td>50</td>\n",
              "      <td>-1.008009</td>\n",
              "      <td>-1.042375</td>\n",
              "      <td>-1.025192</td>\n",
              "      <td>-1.025106</td>\n",
              "      <td>-1.025135</td>\n",
              "    </tr>\n",
              "    <tr>\n",
              "      <th>3</th>\n",
              "      <td>250</td>\n",
              "      <td>-1.021700</td>\n",
              "      <td>-1.028574</td>\n",
              "      <td>-1.025137</td>\n",
              "      <td>-1.025134</td>\n",
              "      <td>-1.025135</td>\n",
              "    </tr>\n",
              "  </tbody>\n",
              "</table>\n",
              "</div>"
            ],
            "text/plain": [
              "     N       ESQ       DIR      TRAP       MED      SIMP\n",
              "0    2 -0.631213 -1.490354 -1.060784 -1.007366 -1.025172\n",
              "1   10 -0.940652 -1.112480 -1.026566 -1.024419 -1.025135\n",
              "2   50 -1.008009 -1.042375 -1.025192 -1.025106 -1.025135\n",
              "3  250 -1.021700 -1.028574 -1.025137 -1.025134 -1.025135"
            ]
          },
          "metadata": {
            "tags": []
          },
          "execution_count": 20
        }
      ]
    },
    {
      "cell_type": "code",
      "metadata": {
        "id": "fDCtUZlBYCf8",
        "colab_type": "code",
        "outputId": "d75804d1-1dc7-4f92-91c2-1c8266ded341",
        "colab": {
          "base_uri": "https://localhost:8080/",
          "height": 391
        }
      },
      "source": [
        "p = tabela.drop(columns=['N'])\n",
        "p.plot.line(figsize=(12,6))"
      ],
      "execution_count": 0,
      "outputs": [
        {
          "output_type": "execute_result",
          "data": {
            "text/plain": [
              "<matplotlib.axes._subplots.AxesSubplot at 0x7f32d032d198>"
            ]
          },
          "metadata": {
            "tags": []
          },
          "execution_count": 21
        },
        {
          "output_type": "display_data",
          "data": {
            "image/png": "[encoded data removed]",
            "text/plain": [
              "<Figure size 864x432 with 1 Axes>"
            ]
          },
          "metadata": {
            "tags": []
          }
        }
      ]
    }
  ]
}